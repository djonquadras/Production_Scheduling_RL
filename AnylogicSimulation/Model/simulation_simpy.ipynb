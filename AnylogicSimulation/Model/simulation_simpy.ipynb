{
 "cells": [
  {
   "cell_type": "code",
   "execution_count": null,
   "metadata": {},
   "outputs": [],
   "source": [
    "import simpy"
   ]
  },
  {
   "cell_type": "code",
   "execution_count": null,
   "metadata": {},
   "outputs": [],
   "source": [
    "class Machine():\n",
    "    \n",
    "    def __init__(self, id, sector, name, processing_time, setup_time):\n",
    "        self.id_machine = id\n",
    "        self.sector = sector\n",
    "        self.name = name\n",
    "        self.setup_time = setup_time\n",
    "        self.processing_time = processing_time\n",
    "        \n",
    "    def __str__(self):\n",
    "        return f\"Machine {self.id} - {self.name} - sector: {self.sector}\"\n",
    "        \n",
    "    def produce(self):\n",
    "        \n",
    "        "
   ]
  }
 ],
 "metadata": {
  "language_info": {
   "name": "python"
  },
  "orig_nbformat": 4
 },
 "nbformat": 4,
 "nbformat_minor": 2
}
