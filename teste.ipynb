{
 "cells": [
  {
   "cell_type": "code",
   "execution_count": 38,
   "metadata": {},
   "outputs": [
    {
     "name": "stdout",
     "output_type": "stream",
     "text": [
      "type -> int\n",
      "num_values -> 5\n",
      "oi -> 3\n"
     ]
    }
   ],
   "source": [
    "a = {\"type\":'int', \"num_values\":5, \"oi\": 3}\n",
    "for i in a:\n",
    "    print(f\"{i} -> {a[i]}\")"
   ]
  },
  {
   "cell_type": "code",
   "execution_count": 40,
   "metadata": {},
   "outputs": [
    {
     "ename": "TypeError",
     "evalue": "'dict' object is not callable",
     "output_type": "error",
     "traceback": [
      "\u001b[1;31m---------------------------------------------------------------------------\u001b[0m",
      "\u001b[1;31mTypeError\u001b[0m                                 Traceback (most recent call last)",
      "Cell \u001b[1;32mIn[40], line 1\u001b[0m\n\u001b[1;32m----> 1\u001b[0m a \u001b[39m=\u001b[39m \u001b[39mdict\u001b[39;49m(\u001b[39mtype\u001b[39;49m\u001b[39m=\u001b[39;49m\u001b[39m'\u001b[39;49m\u001b[39mfloat\u001b[39;49m\u001b[39m'\u001b[39;49m, shape\u001b[39m=\u001b[39;49m\u001b[39m10\u001b[39;49m)\n",
      "\u001b[1;31mTypeError\u001b[0m: 'dict' object is not callable"
     ]
    }
   ],
   "source": [
    "a = dict(type='float', shape=10)"
   ]
  },
  {
   "cell_type": "code",
   "execution_count": null,
   "metadata": {},
   "outputs": [],
   "source": [
    "import pandas as pd\n",
    "teste = pd.DataFrame({\n",
    "    \"oi\": [1,2,3],\n",
    "    \"tchau\":[4,5,6]    \n",
    "})\n",
    "print(teste)\n"
   ]
  },
  {
   "cell_type": "code",
   "execution_count": null,
   "metadata": {},
   "outputs": [],
   "source": [
    "dicio = {\"dataset\": teste}"
   ]
  },
  {
   "cell_type": "code",
   "execution_count": null,
   "metadata": {},
   "outputs": [],
   "source": [
    "print(dicio[\"dataset\"].shape[0])"
   ]
  },
  {
   "cell_type": "code",
   "execution_count": null,
   "metadata": {},
   "outputs": [],
   "source": [
    "dataset_ordens = pd.read_excel('inputs/dataset_ordens.xlsx')\n",
    "dataset_ordens.head()"
   ]
  },
  {
   "cell_type": "code",
   "execution_count": null,
   "metadata": {},
   "outputs": [],
   "source": [
    "dataset_ordens.shape[0]\n",
    "id_material = dataset_ordens[\"id_material\"]"
   ]
  },
  {
   "cell_type": "code",
   "execution_count": null,
   "metadata": {},
   "outputs": [],
   "source": [
    "id_material[0]"
   ]
  },
  {
   "cell_type": "code",
   "execution_count": null,
   "metadata": {},
   "outputs": [],
   "source": [
    "vetor = [1,2]\n",
    "print(vetor)\n",
    "vetor.append(3)\n",
    "print(vetor)"
   ]
  },
  {
   "cell_type": "code",
   "execution_count": null,
   "metadata": {},
   "outputs": [],
   "source": [
    "for a,b in enumerate(id_material):\n",
    "    print(a)\n",
    "    print(b)"
   ]
  },
  {
   "cell_type": "code",
   "execution_count": null,
   "metadata": {},
   "outputs": [],
   "source": [
    "dicio2 = dict\n",
    "print(dicio2)"
   ]
  },
  {
   "cell_type": "code",
   "execution_count": 45,
   "metadata": {},
   "outputs": [
    {
     "name": "stdout",
     "output_type": "stream",
     "text": [
      "{'dicio1': {'a': 1, 'b': 2}, 'dicio2': {'c': 3, 'd': 4}}\n",
      "dicio1 -> {'a': 1, 'b': 2}\n",
      "dicio2 -> {'c': 3, 'd': 4}\n"
     ]
    }
   ],
   "source": [
    "dicio1 = {\"a\": 1, \"b\": 2}\n",
    "dicio2 = {\"c\": 3, \"d\": 4}\n",
    "dicio3 = {}\n",
    "\n",
    "dicio3.update({\"dicio1\": dicio1})\n",
    "dicio3.update({\"dicio2\": dicio2})\n",
    "\n",
    "print(dicio3)\n",
    "\n",
    "for i in dicio3:\n",
    "    print(f\"{i} -> {dicio3[i]}\")"
   ]
  },
  {
   "cell_type": "code",
   "execution_count": 46,
   "metadata": {},
   "outputs": [
    {
     "name": "stdout",
     "output_type": "stream",
     "text": [
      "{'observation': {'type': 'float', 'shape': [16, 16, 3]}, 'attributes': {'type': 'int', 'shape': (4, 2), 'num_values': 5}}\n",
      "observation -> {'type': 'float', 'shape': [16, 16, 3]}\n",
      "attributes -> {'type': 'int', 'shape': (4, 2), 'num_values': 5}\n"
     ]
    }
   ],
   "source": [
    "states = {\n",
    "    \"observation\": {\"type\":'float', \"shape\":[16, 16, 3]},\n",
    "    \"attributes\": {\"type\":'int', \"shape\":(4, 2), \"num_values\":5}\n",
    "}\n",
    "\n",
    "print(states)\n",
    "\n",
    "for i in states:\n",
    "    print(f\"{i} -> {states[i]}\")"
   ]
  },
  {
   "cell_type": "code",
   "execution_count": 2,
   "metadata": {},
   "outputs": [
    {
     "name": "stdout",
     "output_type": "stream",
     "text": [
      "7\n",
      "<class 'int'>\n",
      "7.5\n",
      "<class 'float'>\n"
     ]
    }
   ],
   "source": [
    "a = int(\"7\")\n",
    "b = float(\"7.5\")\n",
    "print(a)\n",
    "print(type(a))\n",
    "print(b)\n",
    "print(type(b))"
   ]
  },
  {
   "cell_type": "code",
   "execution_count": 3,
   "metadata": {},
   "outputs": [
    {
     "data": {
      "text/plain": [
       "75"
      ]
     },
     "execution_count": 3,
     "metadata": {},
     "output_type": "execute_result"
    }
   ],
   "source": [
    "abs(-75)"
   ]
  }
 ],
 "metadata": {
  "kernelspec": {
   "display_name": "env",
   "language": "python",
   "name": "python3"
  },
  "language_info": {
   "codemirror_mode": {
    "name": "ipython",
    "version": 3
   },
   "file_extension": ".py",
   "mimetype": "text/x-python",
   "name": "python",
   "nbconvert_exporter": "python",
   "pygments_lexer": "ipython3",
   "version": "3.9.0"
  },
  "orig_nbformat": 4
 },
 "nbformat": 4,
 "nbformat_minor": 2
}
