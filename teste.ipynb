{
 "cells": [
  {
   "cell_type": "code",
   "execution_count": 38,
   "metadata": {},
   "outputs": [
    {
     "name": "stdout",
     "output_type": "stream",
     "text": [
      "type -> int\n",
      "num_values -> 5\n",
      "oi -> 3\n"
     ]
    }
   ],
   "source": [
    "a = {\"type\":'int', \"num_values\":5, \"oi\": 3}\n",
    "for i in a:\n",
    "    print(f\"{i} -> {a[i]}\")"
   ]
  },
  {
   "cell_type": "code",
   "execution_count": 40,
   "metadata": {},
   "outputs": [
    {
     "ename": "TypeError",
     "evalue": "'dict' object is not callable",
     "output_type": "error",
     "traceback": [
      "\u001b[1;31m---------------------------------------------------------------------------\u001b[0m",
      "\u001b[1;31mTypeError\u001b[0m                                 Traceback (most recent call last)",
      "Cell \u001b[1;32mIn[40], line 1\u001b[0m\n\u001b[1;32m----> 1\u001b[0m a \u001b[39m=\u001b[39m \u001b[39mdict\u001b[39;49m(\u001b[39mtype\u001b[39;49m\u001b[39m=\u001b[39;49m\u001b[39m'\u001b[39;49m\u001b[39mfloat\u001b[39;49m\u001b[39m'\u001b[39;49m, shape\u001b[39m=\u001b[39;49m\u001b[39m10\u001b[39;49m)\n",
      "\u001b[1;31mTypeError\u001b[0m: 'dict' object is not callable"
     ]
    }
   ],
   "source": [
    "a = dict(type='float', shape=10)"
   ]
  },
  {
   "cell_type": "code",
   "execution_count": null,
   "metadata": {},
   "outputs": [],
   "source": [
    "import pandas as pd\n",
    "teste = pd.DataFrame({\n",
    "    \"oi\": [1,2,3],\n",
    "    \"tchau\":[4,5,6]    \n",
    "})\n",
    "print(teste)\n"
   ]
  },
  {
   "cell_type": "code",
   "execution_count": null,
   "metadata": {},
   "outputs": [],
   "source": [
    "dicio = {\"dataset\": teste}"
   ]
  },
  {
   "cell_type": "code",
   "execution_count": null,
   "metadata": {},
   "outputs": [],
   "source": [
    "print(dicio[\"dataset\"].shape[0])"
   ]
  },
  {
   "cell_type": "code",
   "execution_count": 5,
   "metadata": {},
   "outputs": [
    {
     "data": {
      "text/html": [
       "<div>\n",
       "<style scoped>\n",
       "    .dataframe tbody tr th:only-of-type {\n",
       "        vertical-align: middle;\n",
       "    }\n",
       "\n",
       "    .dataframe tbody tr th {\n",
       "        vertical-align: top;\n",
       "    }\n",
       "\n",
       "    .dataframe thead th {\n",
       "        text-align: right;\n",
       "    }\n",
       "</style>\n",
       "<table border=\"1\" class=\"dataframe\">\n",
       "  <thead>\n",
       "    <tr style=\"text-align: right;\">\n",
       "      <th></th>\n",
       "      <th>id_material</th>\n",
       "      <th>tipo_material</th>\n",
       "      <th>due_date</th>\n",
       "      <th>tempo_processamento_maquina1</th>\n",
       "      <th>tempo_processamento_maquina2</th>\n",
       "      <th>tempo_processamento_maquina3</th>\n",
       "    </tr>\n",
       "  </thead>\n",
       "  <tbody>\n",
       "    <tr>\n",
       "      <th>0</th>\n",
       "      <td>mat001</td>\n",
       "      <td>escuro</td>\n",
       "      <td>1000</td>\n",
       "      <td>381</td>\n",
       "      <td>377</td>\n",
       "      <td>381</td>\n",
       "    </tr>\n",
       "    <tr>\n",
       "      <th>1</th>\n",
       "      <td>mat002</td>\n",
       "      <td>claro</td>\n",
       "      <td>1000</td>\n",
       "      <td>371</td>\n",
       "      <td>361</td>\n",
       "      <td>356</td>\n",
       "    </tr>\n",
       "    <tr>\n",
       "      <th>2</th>\n",
       "      <td>mat003</td>\n",
       "      <td>escuro</td>\n",
       "      <td>1000</td>\n",
       "      <td>485</td>\n",
       "      <td>364</td>\n",
       "      <td>444</td>\n",
       "    </tr>\n",
       "    <tr>\n",
       "      <th>3</th>\n",
       "      <td>mat004</td>\n",
       "      <td>escuro</td>\n",
       "      <td>1000</td>\n",
       "      <td>394</td>\n",
       "      <td>405</td>\n",
       "      <td>349</td>\n",
       "    </tr>\n",
       "    <tr>\n",
       "      <th>4</th>\n",
       "      <td>mat005</td>\n",
       "      <td>claro</td>\n",
       "      <td>1000</td>\n",
       "      <td>430</td>\n",
       "      <td>432</td>\n",
       "      <td>364</td>\n",
       "    </tr>\n",
       "  </tbody>\n",
       "</table>\n",
       "</div>"
      ],
      "text/plain": [
       "  id_material tipo_material  due_date  tempo_processamento_maquina1  \\\n",
       "0      mat001        escuro      1000                           381   \n",
       "1      mat002         claro      1000                           371   \n",
       "2      mat003        escuro      1000                           485   \n",
       "3      mat004        escuro      1000                           394   \n",
       "4      mat005         claro      1000                           430   \n",
       "\n",
       "   tempo_processamento_maquina2  tempo_processamento_maquina3  \n",
       "0                           377                           381  \n",
       "1                           361                           356  \n",
       "2                           364                           444  \n",
       "3                           405                           349  \n",
       "4                           432                           364  "
      ]
     },
     "execution_count": 5,
     "metadata": {},
     "output_type": "execute_result"
    }
   ],
   "source": [
    "import pandas as pd\n",
    "dataset_ordens = pd.read_excel('inputs/dataset_ordens.xlsx')\n",
    "dataset_ordens.head()"
   ]
  },
  {
   "cell_type": "code",
   "execution_count": 3,
   "metadata": {},
   "outputs": [
    {
     "data": {
      "text/plain": [
       "'mat026'"
      ]
     },
     "execution_count": 3,
     "metadata": {},
     "output_type": "execute_result"
    }
   ],
   "source": [
    "id_material = dataset_ordens[\"id_material\"]\n",
    "i = 5\n",
    "id_material[20+i]"
   ]
  },
  {
   "cell_type": "code",
   "execution_count": null,
   "metadata": {},
   "outputs": [],
   "source": [
    "dataset_ordens.shape[0]\n",
    "id_material = dataset_ordens[\"id_material\"]"
   ]
  },
  {
   "cell_type": "code",
   "execution_count": null,
   "metadata": {},
   "outputs": [],
   "source": [
    "id_material[0]"
   ]
  },
  {
   "cell_type": "code",
   "execution_count": null,
   "metadata": {},
   "outputs": [],
   "source": [
    "vetor = [1,2]\n",
    "print(vetor)\n",
    "vetor.append(3)\n",
    "print(vetor)"
   ]
  },
  {
   "cell_type": "code",
   "execution_count": null,
   "metadata": {},
   "outputs": [],
   "source": [
    "for a,b in enumerate(id_material):\n",
    "    print(a)\n",
    "    print(b)"
   ]
  },
  {
   "cell_type": "code",
   "execution_count": null,
   "metadata": {},
   "outputs": [],
   "source": [
    "dicio2 = dict\n",
    "print(dicio2)"
   ]
  },
  {
   "cell_type": "code",
   "execution_count": 45,
   "metadata": {},
   "outputs": [
    {
     "name": "stdout",
     "output_type": "stream",
     "text": [
      "{'dicio1': {'a': 1, 'b': 2}, 'dicio2': {'c': 3, 'd': 4}}\n",
      "dicio1 -> {'a': 1, 'b': 2}\n",
      "dicio2 -> {'c': 3, 'd': 4}\n"
     ]
    }
   ],
   "source": [
    "dicio1 = {\"a\": 1, \"b\": 2}\n",
    "dicio2 = {\"c\": 3, \"d\": 4}\n",
    "dicio3 = {}\n",
    "\n",
    "dicio3.update({\"dicio1\": dicio1})\n",
    "dicio3.update({\"dicio2\": dicio2})\n",
    "\n",
    "print(dicio3)\n",
    "\n",
    "for i in dicio3:\n",
    "    print(f\"{i} -> {dicio3[i]}\")"
   ]
  },
  {
   "cell_type": "code",
   "execution_count": 46,
   "metadata": {},
   "outputs": [
    {
     "name": "stdout",
     "output_type": "stream",
     "text": [
      "{'observation': {'type': 'float', 'shape': [16, 16, 3]}, 'attributes': {'type': 'int', 'shape': (4, 2), 'num_values': 5}}\n",
      "observation -> {'type': 'float', 'shape': [16, 16, 3]}\n",
      "attributes -> {'type': 'int', 'shape': (4, 2), 'num_values': 5}\n"
     ]
    }
   ],
   "source": [
    "states = {\n",
    "    \"observation\": {\"type\":'float', \"shape\":[16, 16, 3]},\n",
    "    \"attributes\": {\"type\":'int', \"shape\":(4, 2), \"num_values\":5}\n",
    "}\n",
    "\n",
    "print(states)\n",
    "\n",
    "for i in states:\n",
    "    print(f\"{i} -> {states[i]}\")"
   ]
  },
  {
   "cell_type": "code",
   "execution_count": 2,
   "metadata": {},
   "outputs": [
    {
     "name": "stdout",
     "output_type": "stream",
     "text": [
      "7\n",
      "<class 'int'>\n",
      "7.5\n",
      "<class 'float'>\n"
     ]
    }
   ],
   "source": [
    "a = int(\"7\")\n",
    "b = float(\"7.5\")\n",
    "print(a)\n",
    "print(type(a))\n",
    "print(b)\n",
    "print(type(b))"
   ]
  },
  {
   "cell_type": "code",
   "execution_count": 3,
   "metadata": {},
   "outputs": [
    {
     "data": {
      "text/plain": [
       "75"
      ]
     },
     "execution_count": 3,
     "metadata": {},
     "output_type": "execute_result"
    }
   ],
   "source": [
    "abs(-75)"
   ]
  },
  {
   "cell_type": "code",
   "execution_count": 12,
   "metadata": {},
   "outputs": [
    {
     "data": {
      "text/plain": [
       "8"
      ]
     },
     "execution_count": 12,
     "metadata": {},
     "output_type": "execute_result"
    }
   ],
   "source": [
    "len(pd.DataFrame({\"b\": [0,1,2,3,4,5,6,2,3,4,5,2,1,23,4,2,1]})[\"b\"].unique())"
   ]
  },
  {
   "cell_type": "code",
   "execution_count": 1,
   "metadata": {},
   "outputs": [
    {
     "name": "stdout",
     "output_type": "stream",
     "text": [
      "True\n"
     ]
    }
   ],
   "source": [
    "a = [\"mtt1\", \"mtt2\", \"mtt3\", \"mtt4\"]\n",
    "print(\"mtt3\" in a)"
   ]
  },
  {
   "cell_type": "code",
   "execution_count": 3,
   "metadata": {},
   "outputs": [
    {
     "name": "stdout",
     "output_type": "stream",
     "text": [
      "[False, False, False, False, False, False, False, False, False, False, False, False, False, False, False, False, False, False, False, False, False, False, False, False, False, False, False, False, False, False, False, False, False, False, False, False, False, False, False, False, False, False, False, False, False, False, False, False, False, False, False, False, False, False, False, False, False, False, False, False]\n"
     ]
    }
   ],
   "source": [
    "import numpy as np\n",
    "my_array = [False] * 60\n",
    "print(my_array)"
   ]
  },
  {
   "cell_type": "code",
   "execution_count": 3,
   "metadata": {},
   "outputs": [
    {
     "name": "stdout",
     "output_type": "stream",
     "text": [
      "[1, 2, 3]\n",
      "[4, 5, 6]\n",
      "[7, 8]\n"
     ]
    }
   ],
   "source": [
    "a = [1,2,3,4,5,6,7,8]\n",
    "NUM_1 = 3\n",
    "NUM_2 = 3\n",
    "NUM_3 = 2\n",
    "\n",
    "b = a[:NUM_1]\n",
    "c = a[NUM_1:(NUM_1+NUM_2)]\n",
    "d = a[(NUM_1+NUM_2):(NUM_1+NUM_2+NUM_3)]\n",
    "print(b)\n",
    "print(c)\n",
    "print(d)"
   ]
  },
  {
   "cell_type": "code",
   "execution_count": 7,
   "metadata": {},
   "outputs": [
    {
     "name": "stdout",
     "output_type": "stream",
     "text": [
      "[1, 2, 3]\n",
      "[4, 5, 6]\n",
      "[7, 8, 9]\n",
      "[1, 2, 3]\n"
     ]
    }
   ],
   "source": [
    "a = [1,2,3,4,5,6,7,8,9]\n",
    "NUM = 3\n",
    "\n",
    "b = a[:NUM]\n",
    "c = a[NUM:NUM*2]\n",
    "d = a[NUM*2:NUM*3]\n",
    "print(b)\n",
    "print(c)\n",
    "print(d)\n",
    "e = [b,c,d]\n",
    "print(e[0])"
   ]
  },
  {
   "cell_type": "code",
   "execution_count": 5,
   "metadata": {},
   "outputs": [
    {
     "name": "stdout",
     "output_type": "stream",
     "text": [
      "[1]\n",
      "[2]\n"
     ]
    }
   ],
   "source": [
    "a = []\n",
    "a.append(1)\n",
    "print(a)\n",
    "a[0] = 2\n",
    "print(a)\n"
   ]
  },
  {
   "cell_type": "code",
   "execution_count": null,
   "metadata": {},
   "outputs": [],
   "source": []
  }
 ],
 "metadata": {
  "kernelspec": {
   "display_name": "env",
   "language": "python",
   "name": "python3"
  },
  "language_info": {
   "codemirror_mode": {
    "name": "ipython",
    "version": 3
   },
   "file_extension": ".py",
   "mimetype": "text/x-python",
   "name": "python",
   "nbconvert_exporter": "python",
   "pygments_lexer": "ipython3",
   "version": "3.9.0"
  },
  "orig_nbformat": 4
 },
 "nbformat": 4,
 "nbformat_minor": 2
}
