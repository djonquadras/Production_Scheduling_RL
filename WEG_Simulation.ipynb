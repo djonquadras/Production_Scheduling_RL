{
 "cells": [
  {
   "cell_type": "markdown",
   "metadata": {},
   "source": [
    "# WEG Process"
   ]
  },
  {
   "cell_type": "code",
   "execution_count": 1,
   "metadata": {},
   "outputs": [],
   "source": [
    "# Importing the libraries\n",
    "import random\n",
    "import simpy\n",
    "\n",
    "#Setting seed\n",
    "random.seed(100)"
   ]
  },
  {
   "cell_type": "code",
   "execution_count": null,
   "metadata": {},
   "outputs": [],
   "source": [
    "env = simpy.Environment()\n",
    "machine1 = simpy.Resource(env, capacity=1)\n",
    "machine2 = simpy.Resource(env, capacity=1)\n",
    "machine3 = simpy.Resource(env, capacity=1)"
   ]
  },
  {
   "cell_type": "code",
   "execution_count": null,
   "metadata": {},
   "outputs": [],
   "source": [
    "class Production_Orders():\n",
    "    def __init__(self, env):\n",
    "        self.env = env"
   ]
  },
  {
   "cell_type": "code",
   "execution_count": 6,
   "metadata": {},
   "outputs": [
    {
     "name": "stdout",
     "output_type": "stream",
     "text": [
      "Product 1 requesting at 0 with priority=0\n",
      "Product 2 requesting at 0 with priority=-2\n",
      "Product 3 requesting at 0 with priority=-1\n",
      "Product 1 got resource at 0\n",
      "Product 2 got resource at 3\n",
      "Product 3 got resource at 6\n"
     ]
    }
   ],
   "source": [
    "def resource_user(name, env, resource, wait, prio):\n",
    "    yield env.timeout(wait)\n",
    "    with resource.request(priority=prio) as req:\n",
    "        print(f'{name} requesting at {env.now} with priority={prio}')\n",
    "        yield req\n",
    "        print(f'{name} got resource at {env.now}')\n",
    "        yield env.timeout(3)\n",
    "\n",
    "env = simpy.Environment()\n",
    "res = simpy.PriorityResource(env, capacity=1)\n",
    "p1 = env.process(resource_user(\"Product 1\", env, res, wait=0, prio=-1))\n",
    "p2 = env.process(resource_user(\"Product 2\", env, res, wait=0, prio=-2))\n",
    "p3 = env.process(resource_user(\"Product 3\", env, res, wait=0, prio=-1))\n",
    "env.run()"
   ]
  }
 ],
 "metadata": {
  "kernelspec": {
   "display_name": "Python 3.9.0 ('.env': venv)",
   "language": "python",
   "name": "python3"
  },
  "language_info": {
   "codemirror_mode": {
    "name": "ipython",
    "version": 3
   },
   "file_extension": ".py",
   "mimetype": "text/x-python",
   "name": "python",
   "nbconvert_exporter": "python",
   "pygments_lexer": "ipython3",
   "version": "3.9.0"
  },
  "orig_nbformat": 4,
  "vscode": {
   "interpreter": {
    "hash": "ab9a9ed451aebc8d3b323b7d34e0723a1a91dbfac971ca2c8e5e1dcb95507f31"
   }
  }
 },
 "nbformat": 4,
 "nbformat_minor": 2
}
