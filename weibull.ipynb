{
 "cells": [
  {
   "cell_type": "code",
   "execution_count": 43,
   "metadata": {},
   "outputs": [
    {
     "name": "stdout",
     "output_type": "stream",
     "text": [
      "[19.87975049 18.483484   19.43443153 27.76186746 37.75579122  6.78404297\n",
      "  2.13049608 45.28446447 26.0356494  18.28306508 37.61508696 25.23772756\n",
      " 39.87862641 24.13365583 36.33950883 24.85810708  8.6512277   3.78627014\n",
      " 30.94204093 28.00135548 23.0414462  18.14351663  9.30500795  4.6269137\n",
      " 39.34123924 16.83179132 17.23067432 36.87216241 37.94323115 24.58842948\n",
      " 31.82177181 46.93295335 31.58103702 24.47682677 32.96137464 19.26484977\n",
      " 22.5596202  25.87035929 26.76543683 14.96025052 27.16800371 36.2480708\n",
      " 29.51367287 36.93572584 10.32846053  7.61770681 31.51701128 32.53575962\n",
      " 34.94313371 22.21279689 21.49409295 30.82220137  8.91795292 58.64959008\n",
      "  9.3530474  18.95248239 28.93024052 39.88946797 17.81795984 37.25660914]\n",
      "20.0\n"
     ]
    }
   ],
   "source": [
    "import numpy as np\n",
    "from scipy.stats import weibull_min\n",
    "\n",
    "# Define the shape and scale parameters\n",
    "shape = 2.5\n",
    "scale = 30\n",
    "\n",
    "# Create a Weibull distribution object\n",
    "weibull_dist = weibull_min(shape, scale=scale)\n",
    "\n",
    "# Generate random samples from the distribution\n",
    "num_samples = 60\n",
    "samples = weibull_dist.rvs(size=num_samples)\n",
    "\n",
    "# Print the generated samples\n",
    "print(samples)\n",
    "print(round(samples[0], 0))"
   ]
  }
 ],
 "metadata": {
  "kernelspec": {
   "display_name": "env",
   "language": "python",
   "name": "python3"
  },
  "language_info": {
   "codemirror_mode": {
    "name": "ipython",
    "version": 3
   },
   "file_extension": ".py",
   "mimetype": "text/x-python",
   "name": "python",
   "nbconvert_exporter": "python",
   "pygments_lexer": "ipython3",
   "version": "3.9.0"
  },
  "orig_nbformat": 4
 },
 "nbformat": 4,
 "nbformat_minor": 2
}
