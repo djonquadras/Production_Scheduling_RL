{
 "cells": [
  {
   "attachments": {},
   "cell_type": "markdown",
   "metadata": {},
   "source": [
    "# Textil Flow Shop Optimization"
   ]
  },
  {
   "cell_type": "code",
   "execution_count": 2,
   "metadata": {},
   "outputs": [],
   "source": [
    "# Import Libraries\n",
    "import pandas as pd\n",
    "import numpy as np\n",
    "import random as rd\n",
    "import simpy as sp\n",
    "from scipy.stats import weibull_min\n",
    "import utils\n",
    "\n",
    "# Random Seed\n",
    "rd.seed(12397)\n",
    "\n",
    "# Parameters\n",
    "\n",
    "NUM_MACHINES_STAGE_1 = 60\n",
    "NUM_MACHINES_STAGE_2 = 2\n",
    "NUM_MACHINES_STAGE_3 = 3\n",
    "\n",
    "# Função de Weibull\n",
    "utils.weibull(10,30)\n"
   ]
  },
  {
   "cell_type": "code",
   "execution_count": 62,
   "metadata": {},
   "outputs": [],
   "source": [
    "# Machines\n",
    "\n",
    "class Machine:\n",
    "    def __init__(self, env,\n",
    "                 prev1_maintenance_time,\n",
    "                 prev2_maintenance_time,\n",
    "                 corr_maintenance_time,\n",
    "                 life_time,\n",
    "                 tipo_manutencao = 2,\n",
    "                 operating_time = 0):\n",
    "        \n",
    "        self.env = env\n",
    "        self.prev1_maintenance_time = prev1_maintenance_time\n",
    "        self.prev2_maintenance_time = prev2_maintenance_time\n",
    "        self.corr_maintenance_time = corr_maintenance_time\n",
    "        self.life_time = life_time\n",
    "        self.tipo_manutencao = tipo_manutencao\n",
    "        self.operating_time = operating_time\n",
    "        self.working = True\n",
    "        self.produce = env.process(self.produce())\n",
    "\n",
    "    def produce(self):\n",
    "        while True:\n",
    "            if self.working:\n",
    "                # Tempo de funcionamento da máquina antes da próxima quebra\n",
    "                tempo_funcionamento = rd.expovariate(1.0 / 180)\n",
    "                yield self.env.timeout(tempo_funcionamento)\n",
    "\n",
    "                # Máquina quebrada\n",
    "                self.funcionando = False\n",
    "                tempo_quebra = self.env.now\n",
    "                print(f\"Máquina quebrou em {tempo_quebra}\")\n",
    "\n",
    "                # Tempo para consertar a máquina\n",
    "                tempo_conserto = rd.expovariate(1.0 / self.tempo_conserto)\n",
    "                yield self.env.timeout(tempo_conserto)\n",
    "\n",
    "                # Máquina consertada\n",
    "                self.funcionando = True\n",
    "                tempo_conserto = self.env.now - tempo_quebra\n",
    "                print(f\"Máquina consertada em {self.env.now}. Tempo de conserto: {tempo_conserto}\")\n"
   ]
  },
  {
   "cell_type": "code",
   "execution_count": null,
   "metadata": {},
   "outputs": [],
   "source": [
    "class SistemaProdutivo:\n",
    "    def __init__(self, env, num_machines, maintenance_time):\n",
    "        self.env = env\n",
    "        self.machines = [Machine(env, maintenance_time) for i in range(num_machines)]\n",
    "        self.env.process(self.monitor())\n",
    "\n",
    "    def monitor(self):\n",
    "        while True:\n",
    "            # Tempo entre checagens do sistema\n",
    "            yield self.env.timeout(10)\n",
    "\n",
    "            # Contagem de máquinas quebradas\n",
    "            broken_machines = sum([not machine.working for machine in self.machines])\n",
    "            print(f\"{broken_machines} broken machines in {self.env.now}\")\n"
   ]
  },
  {
   "cell_type": "code",
   "execution_count": null,
   "metadata": {},
   "outputs": [
    {
     "ename": "",
     "evalue": "",
     "output_type": "error",
     "traceback": [
      "\u001b[1;31mRunning cells with 'c:\\Program Files\\Python39\\python.exe' requires the ipykernel package.\n",
      "\u001b[1;31mRun the following command to install 'ipykernel' into the Python environment. \n",
      "\u001b[1;31mCommand: '\"c:/Program Files/Python39/python.exe\" -m pip install ipykernel -U --user --force-reinstall'"
     ]
    }
   ],
   "source": [
    "dict(type='int', num_values=5)"
   ]
  }
 ],
 "metadata": {
  "kernelspec": {
   "display_name": "env",
   "language": "python",
   "name": "python3"
  },
  "language_info": {
   "codemirror_mode": {
    "name": "ipython",
    "version": 3
   },
   "file_extension": ".py",
   "mimetype": "text/x-python",
   "name": "python",
   "nbconvert_exporter": "python",
   "pygments_lexer": "ipython3",
   "version": "3.9.0"
  },
  "orig_nbformat": 4
 },
 "nbformat": 4,
 "nbformat_minor": 2
}
